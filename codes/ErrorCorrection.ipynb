{
  "nbformat": 4,
  "nbformat_minor": 0,
  "metadata": {
    "colab": {
      "provenance": [],
      "toc_visible": true,
      "authorship_tag": "ABX9TyPEDIkpH9On7gfu9Lq0XqdW",
      "include_colab_link": true
    },
    "kernelspec": {
      "name": "python3",
      "display_name": "Python 3"
    },
    "language_info": {
      "name": "python"
    }
  },
  "cells": [
    {
      "cell_type": "markdown",
      "metadata": {
        "id": "view-in-github",
        "colab_type": "text"
      },
      "source": [
        "<a href=\"https://colab.research.google.com/github/FLjv77/Quantum_ML_Course/blob/main/codes/ErrorCorrection.ipynb\" target=\"_parent\"><img src=\"https://colab.research.google.com/assets/colab-badge.svg\" alt=\"Open In Colab\"/></a>"
      ]
    },
    {
      "cell_type": "markdown",
      "source": [
        "###Installation"
      ],
      "metadata": {
        "id": "CBtaA1MCQR_m"
      }
    },
    {
      "cell_type": "code",
      "execution_count": 1,
      "metadata": {
        "colab": {
          "base_uri": "https://localhost:8080/"
        },
        "id": "vo0u85Og9nIr",
        "outputId": "e9ea5862-3049-4c16-a3a1-4d62f97c8088"
      },
      "outputs": [
        {
          "output_type": "stream",
          "name": "stdout",
          "text": [
            "Collecting pennylane\n",
            "  Downloading PennyLane-0.41.1-py3-none-any.whl.metadata (10 kB)\n",
            "Requirement already satisfied: numpy in /usr/local/lib/python3.11/dist-packages (from pennylane) (2.0.2)\n",
            "Requirement already satisfied: scipy in /usr/local/lib/python3.11/dist-packages (from pennylane) (1.15.3)\n",
            "Requirement already satisfied: networkx in /usr/local/lib/python3.11/dist-packages (from pennylane) (3.4.2)\n",
            "Collecting rustworkx>=0.14.0 (from pennylane)\n",
            "  Downloading rustworkx-0.16.0-cp39-abi3-manylinux_2_17_x86_64.manylinux2014_x86_64.whl.metadata (10 kB)\n",
            "Requirement already satisfied: autograd in /usr/local/lib/python3.11/dist-packages (from pennylane) (1.8.0)\n",
            "Collecting tomlkit (from pennylane)\n",
            "  Downloading tomlkit-0.13.2-py3-none-any.whl.metadata (2.7 kB)\n",
            "Collecting appdirs (from pennylane)\n",
            "  Downloading appdirs-1.4.4-py2.py3-none-any.whl.metadata (9.0 kB)\n",
            "Collecting autoray>=0.6.11 (from pennylane)\n",
            "  Downloading autoray-0.7.1-py3-none-any.whl.metadata (5.8 kB)\n",
            "Requirement already satisfied: cachetools in /usr/local/lib/python3.11/dist-packages (from pennylane) (5.5.2)\n",
            "Collecting pennylane-lightning>=0.41 (from pennylane)\n",
            "  Downloading pennylane_lightning-0.41.1-cp311-cp311-manylinux_2_28_x86_64.whl.metadata (12 kB)\n",
            "Requirement already satisfied: requests in /usr/local/lib/python3.11/dist-packages (from pennylane) (2.32.3)\n",
            "Requirement already satisfied: typing-extensions in /usr/local/lib/python3.11/dist-packages (from pennylane) (4.13.2)\n",
            "Requirement already satisfied: packaging in /usr/local/lib/python3.11/dist-packages (from pennylane) (24.2)\n",
            "Collecting diastatic-malt (from pennylane)\n",
            "  Downloading diastatic_malt-2.15.2-py3-none-any.whl.metadata (2.6 kB)\n",
            "Collecting scipy-openblas32>=0.3.26 (from pennylane-lightning>=0.41->pennylane)\n",
            "  Downloading scipy_openblas32-0.3.29.265.0-py3-none-manylinux_2_17_x86_64.manylinux2014_x86_64.whl.metadata (56 kB)\n",
            "\u001b[2K     \u001b[90m━━━━━━━━━━━━━━━━━━━━━━━━━━━━━━━━━━━━━━━━\u001b[0m \u001b[32m56.1/56.1 kB\u001b[0m \u001b[31m1.1 MB/s\u001b[0m eta \u001b[36m0:00:00\u001b[0m\n",
            "\u001b[?25hRequirement already satisfied: astunparse in /usr/local/lib/python3.11/dist-packages (from diastatic-malt->pennylane) (1.6.3)\n",
            "Requirement already satisfied: gast in /usr/local/lib/python3.11/dist-packages (from diastatic-malt->pennylane) (0.6.0)\n",
            "Requirement already satisfied: termcolor in /usr/local/lib/python3.11/dist-packages (from diastatic-malt->pennylane) (3.1.0)\n",
            "Requirement already satisfied: charset-normalizer<4,>=2 in /usr/local/lib/python3.11/dist-packages (from requests->pennylane) (3.4.2)\n",
            "Requirement already satisfied: idna<4,>=2.5 in /usr/local/lib/python3.11/dist-packages (from requests->pennylane) (3.10)\n",
            "Requirement already satisfied: urllib3<3,>=1.21.1 in /usr/local/lib/python3.11/dist-packages (from requests->pennylane) (2.4.0)\n",
            "Requirement already satisfied: certifi>=2017.4.17 in /usr/local/lib/python3.11/dist-packages (from requests->pennylane) (2025.4.26)\n",
            "Requirement already satisfied: wheel<1.0,>=0.23.0 in /usr/local/lib/python3.11/dist-packages (from astunparse->diastatic-malt->pennylane) (0.45.1)\n",
            "Requirement already satisfied: six<2.0,>=1.6.1 in /usr/local/lib/python3.11/dist-packages (from astunparse->diastatic-malt->pennylane) (1.17.0)\n",
            "Downloading PennyLane-0.41.1-py3-none-any.whl (2.3 MB)\n",
            "\u001b[2K   \u001b[90m━━━━━━━━━━━━━━━━━━━━━━━━━━━━━━━━━━━━━━━━\u001b[0m \u001b[32m2.3/2.3 MB\u001b[0m \u001b[31m45.2 MB/s\u001b[0m eta \u001b[36m0:00:00\u001b[0m\n",
            "\u001b[?25hDownloading autoray-0.7.1-py3-none-any.whl (930 kB)\n",
            "\u001b[2K   \u001b[90m━━━━━━━━━━━━━━━━━━━━━━━━━━━━━━━━━━━━━━━━\u001b[0m \u001b[32m930.8/930.8 kB\u001b[0m \u001b[31m42.9 MB/s\u001b[0m eta \u001b[36m0:00:00\u001b[0m\n",
            "\u001b[?25hDownloading pennylane_lightning-0.41.1-cp311-cp311-manylinux_2_28_x86_64.whl (2.5 MB)\n",
            "\u001b[2K   \u001b[90m━━━━━━━━━━━━━━━━━━━━━━━━━━━━━━━━━━━━━━━━\u001b[0m \u001b[32m2.5/2.5 MB\u001b[0m \u001b[31m56.1 MB/s\u001b[0m eta \u001b[36m0:00:00\u001b[0m\n",
            "\u001b[?25hDownloading rustworkx-0.16.0-cp39-abi3-manylinux_2_17_x86_64.manylinux2014_x86_64.whl (2.1 MB)\n",
            "\u001b[2K   \u001b[90m━━━━━━━━━━━━━━━━━━━━━━━━━━━━━━━━━━━━━━━━\u001b[0m \u001b[32m2.1/2.1 MB\u001b[0m \u001b[31m58.4 MB/s\u001b[0m eta \u001b[36m0:00:00\u001b[0m\n",
            "\u001b[?25hDownloading appdirs-1.4.4-py2.py3-none-any.whl (9.6 kB)\n",
            "Downloading diastatic_malt-2.15.2-py3-none-any.whl (167 kB)\n",
            "\u001b[2K   \u001b[90m━━━━━━━━━━━━━━━━━━━━━━━━━━━━━━━━━━━━━━━━\u001b[0m \u001b[32m167.9/167.9 kB\u001b[0m \u001b[31m13.9 MB/s\u001b[0m eta \u001b[36m0:00:00\u001b[0m\n",
            "\u001b[?25hDownloading tomlkit-0.13.2-py3-none-any.whl (37 kB)\n",
            "Downloading scipy_openblas32-0.3.29.265.0-py3-none-manylinux_2_17_x86_64.manylinux2014_x86_64.whl (8.6 MB)\n",
            "\u001b[2K   \u001b[90m━━━━━━━━━━━━━━━━━━━━━━━━━━━━━━━━━━━━━━━━\u001b[0m \u001b[32m8.6/8.6 MB\u001b[0m \u001b[31m82.2 MB/s\u001b[0m eta \u001b[36m0:00:00\u001b[0m\n",
            "\u001b[?25hInstalling collected packages: appdirs, tomlkit, scipy-openblas32, rustworkx, autoray, diastatic-malt, pennylane-lightning, pennylane\n",
            "Successfully installed appdirs-1.4.4 autoray-0.7.1 diastatic-malt-2.15.2 pennylane-0.41.1 pennylane-lightning-0.41.1 rustworkx-0.16.0 scipy-openblas32-0.3.29.265.0 tomlkit-0.13.2\n"
          ]
        }
      ],
      "source": [
        "!pip install pennylane"
      ]
    },
    {
      "cell_type": "markdown",
      "source": [
        "###Imports"
      ],
      "metadata": {
        "id": "gesiBZEtQVww"
      }
    },
    {
      "cell_type": "code",
      "source": [
        "import pennylane as qml\n",
        "from pennylane import numpy as np"
      ],
      "metadata": {
        "id": "PMNr4fWkOLWq",
        "colab": {
          "base_uri": "https://localhost:8080/"
        },
        "outputId": "3dd92e60-7dfe-4ac6-ba3a-eb1113486a1d"
      },
      "execution_count": 2,
      "outputs": [
        {
          "output_type": "stream",
          "name": "stderr",
          "text": [
            "/usr/local/lib/python3.11/dist-packages/pennylane/capture/capture_operators.py:33: RuntimeWarning: PennyLane is not yet compatible with JAX versions > 0.4.28. You have version 0.5.2 installed. Please downgrade JAX to <=0.4.28 to avoid runtime errors.\n",
            "  warnings.warn(\n"
          ]
        }
      ]
    },
    {
      "cell_type": "markdown",
      "source": [
        "###Const Values"
      ],
      "metadata": {
        "id": "DQ5CiExKQYKG"
      }
    },
    {
      "cell_type": "code",
      "source": [
        "ideal = np.array([np.cos(np.pi/8), np.sin(np.pi/8)])\n"
      ],
      "metadata": {
        "id": "1zyV2hlJQaUJ"
      },
      "execution_count": 3,
      "outputs": []
    },
    {
      "cell_type": "markdown",
      "source": [
        "###Utilites"
      ],
      "metadata": {
        "id": "IO2NT2LpQhZg"
      }
    },
    {
      "cell_type": "code",
      "source": [
        "def getFidelity(state1, state2):\n",
        "  return np.dot(state1, state2) ** 2"
      ],
      "metadata": {
        "id": "h8eT6pHxQjg7"
      },
      "execution_count": 4,
      "outputs": []
    },
    {
      "cell_type": "markdown",
      "source": [
        "###Noise"
      ],
      "metadata": {
        "id": "U3i1tpoqRs4_"
      }
    },
    {
      "cell_type": "code",
      "source": [
        "def error_type1(num, p):\n",
        "  for i in range(num):\n",
        "    if np.random.rand() < p:\n",
        "      qml.X(wires = [i])\n",
        "  return qml.state\n",
        "\n",
        "def error_type2(num, p):\n",
        "  for i in range(num):\n",
        "    if np.random.rand() < p:\n",
        "      qml.Z(wires = [i])\n",
        "  return qml.state\n",
        "\n",
        "def error_type3(p):\n",
        "  for i in range(9):\n",
        "    if(np.random.rand() < p):\n",
        "      qml.PauliX(wires=i)\n",
        "\n",
        "  return qml.state"
      ],
      "metadata": {
        "id": "4g9GgdKiRupN"
      },
      "execution_count": 5,
      "outputs": []
    },
    {
      "cell_type": "markdown",
      "source": [
        "###Circuits"
      ],
      "metadata": {
        "id": "0PtcXuviR0QC"
      }
    },
    {
      "cell_type": "markdown",
      "source": [
        "####A Bit Error"
      ],
      "metadata": {
        "id": "XNOiXxsiSBIy"
      }
    },
    {
      "cell_type": "code",
      "source": [
        "dev = qml.device(\"default.mixed\", wires=3)\n",
        "@qml.qnode(dev)\n",
        "def bitflip_code(p, num):\n",
        "  #Init state\n",
        "  qml.RY(np.pi/4, wires=0)\n",
        "\n",
        "  #Encode\n",
        "  qml.CNOT(wires = [0, 1])\n",
        "  qml.CNOT(wires = [0, 2])\n",
        "\n",
        "  #Noise\n",
        "  error_type1(num, p)\n",
        "\n",
        "  #Decode\n",
        "  qml.CNOT(wires = [0, 1])\n",
        "  qml.CNOT(wires = [0, 2])\n",
        "  qml.Toffoli(wires = [1, 2, 0])\n",
        "\n",
        "  return qml.probs(wires=0)\n",
        "\n",
        "@qml.qnode(dev)\n",
        "def phaseflip_code(p, num):\n",
        "  #Init state\n",
        "  qml.RY(np.pi/4, wires=0)\n",
        "\n",
        "  #Encode\n",
        "  qml.CNOT(wires = [0, 1])\n",
        "  qml.CNOT(wires = [0, 2])\n",
        "  for i in [0, 1, 2]:\n",
        "    qml.H(i)\n",
        "\n",
        "  #Noise\n",
        "  error_type2(num, p)\n",
        "\n",
        "  #Decode\n",
        "  for i in [0, 1, 2]:\n",
        "    qml.H(i)\n",
        "\n",
        "  qml.CNOT(wires = [0, 1])\n",
        "  qml.CNOT(wires = [0, 2])\n",
        "  qml.Toffoli(wires = [1, 2, 0])\n",
        "\n",
        "  return qml.probs(wires=0)"
      ],
      "metadata": {
        "id": "fBiG1NdmLXBu"
      },
      "execution_count": 6,
      "outputs": []
    },
    {
      "cell_type": "code",
      "source": [
        "p = 0.99\n",
        "num = 3\n",
        "result = phaseflip_code(p, num)\n",
        "fidelity = getFidelity(np.sqrt(result), (ideal))\n",
        "print(\"Fidelity:\", fidelity)\n",
        "print(qml.draw_mpl(phaseflip_code)(p, num))"
      ],
      "metadata": {
        "colab": {
          "base_uri": "https://localhost:8080/",
          "height": 401
        },
        "id": "E8BWvOneOrY6",
        "outputId": "d4916438-5dc0-4f20-cbc5-69d7d1d311a9"
      },
      "execution_count": 7,
      "outputs": [
        {
          "output_type": "stream",
          "name": "stdout",
          "text": [
            "Fidelity: 0.49999999999999944\n",
            "(<Figure size 1200x400 with 1 Axes>, <Axes: >)\n"
          ]
        },
        {
          "output_type": "display_data",
          "data": {
            "text/plain": [
              "<Figure size 1200x400 with 1 Axes>"
            ],
            "image/png": "[encoded data removed]"
          },
          "metadata": {}
        }
      ]
    },
    {
      "cell_type": "markdown",
      "source": [
        "####Multi Bit Error"
      ],
      "metadata": {
        "id": "qaPJbiKKSGPn"
      }
    },
    {
      "cell_type": "code",
      "source": [
        "dev = qml.device(\"default.qubit\", wires=9)\n",
        "\n",
        "@qml.qnode(dev)\n",
        "def shor_code(p):\n",
        "  #Init state\n",
        "  qml.RY(np.pi/4, wires=0)\n",
        "\n",
        "  #Encode\n",
        "  qml.CNOT(wires=[0, 3])\n",
        "  qml.CNOT(wires=[0, 6])\n",
        "  for i in [0, 1, 2]:\n",
        "      t = i * 3\n",
        "      qml.Hadamard(wires=t)\n",
        "      qml.CNOT(wires=[t, t+1])\n",
        "      qml.CNOT(wires=[t, t+2])\n",
        "\n",
        "  #Noise\n",
        "  error_type3(p)\n",
        "\n",
        "  #Decode\n",
        "  for i in [0, 1, 2]:\n",
        "      t = i * 3\n",
        "      qml.CNOT(wires=[t, t+1])\n",
        "      qml.CNOT(wires=[t, t+2])\n",
        "      qml.Toffoli(wires=[t+1, t+2, t])\n",
        "      qml.Hadamard(wires=t)\n",
        "\n",
        "  qml.CNOT(wires=[0, 3])\n",
        "  qml.CNOT(wires=[0, 6])\n",
        "  qml.Toffoli(wires=[6, 3, 0])\n",
        "\n",
        "  return qml.probs(wires=0)\n"
      ],
      "metadata": {
        "id": "FOkXHRi19tkk"
      },
      "execution_count": 8,
      "outputs": []
    },
    {
      "cell_type": "code",
      "source": [
        "for i in range(50):\n",
        "  ideal = np.array([np.cos(np.pi/8), np.sin(np.pi/8)])\n",
        "  result = shor_code(0.99)\n",
        "  fidelity = getFidelity(np.sqrt(result), (ideal))\n",
        "  print(\"Fidelity:\", fidelity)"
      ],
      "metadata": {
        "colab": {
          "base_uri": "https://localhost:8080/"
        },
        "id": "LSIm9F-B-Uxo",
        "outputId": "73741bd3-4c88-4bad-d623-8b7b39744d9a"
      },
      "execution_count": 9,
      "outputs": [
        {
          "output_type": "stream",
          "name": "stdout",
          "text": [
            "Fidelity: 0.9999999999999991\n",
            "Fidelity: 0.9999999999999991\n",
            "Fidelity: 0.9999999999999991\n",
            "Fidelity: 0.9999999999999991\n",
            "Fidelity: 0.9999999999999991\n",
            "Fidelity: 0.9999999999999991\n",
            "Fidelity: 0.9999999999999991\n",
            "Fidelity: 0.9999999999999991\n",
            "Fidelity: 0.9999999999999991\n",
            "Fidelity: 0.9999999999999991\n",
            "Fidelity: 0.9999999999999991\n",
            "Fidelity: 0.9999999999999991\n",
            "Fidelity: 0.9999999999999991\n",
            "Fidelity: 0.9999999999999991\n",
            "Fidelity: 0.9999999999999991\n",
            "Fidelity: 0.9999999999999991\n",
            "Fidelity: 0.9999999999999991\n",
            "Fidelity: 0.9999999999999991\n",
            "Fidelity: 0.9999999999999991\n",
            "Fidelity: 0.9999999999999991\n",
            "Fidelity: 0.9999999999999991\n",
            "Fidelity: 0.9999999999999991\n",
            "Fidelity: 0.9999999999999991\n",
            "Fidelity: 0.9999999999999991\n",
            "Fidelity: 0.9999999999999991\n",
            "Fidelity: 0.9999999999999991\n",
            "Fidelity: 0.9999999999999991\n",
            "Fidelity: 0.9999999999999991\n",
            "Fidelity: 0.9999999999999991\n",
            "Fidelity: 0.9999999999999991\n",
            "Fidelity: 0.9999999999999991\n",
            "Fidelity: 0.9999999999999991\n",
            "Fidelity: 0.9999999999999991\n",
            "Fidelity: 0.9999999999999991\n",
            "Fidelity: 0.9999999999999991\n",
            "Fidelity: 0.9999999999999991\n",
            "Fidelity: 0.9999999999999991\n",
            "Fidelity: 0.9999999999999991\n",
            "Fidelity: 0.9999999999999991\n",
            "Fidelity: 0.9999999999999991\n",
            "Fidelity: 0.9999999999999991\n",
            "Fidelity: 0.9999999999999991\n",
            "Fidelity: 0.9999999999999991\n",
            "Fidelity: 0.9999999999999991\n",
            "Fidelity: 0.9999999999999991\n",
            "Fidelity: 0.9999999999999991\n",
            "Fidelity: 0.9999999999999991\n",
            "Fidelity: 0.9999999999999991\n",
            "Fidelity: 0.9999999999999991\n",
            "Fidelity: 0.9999999999999991\n"
          ]
        }
      ]
    },
    {
      "cell_type": "code",
      "source": [],
      "metadata": {
        "id": "KcHT-2-llvF6"
      },
      "execution_count": null,
      "outputs": []
    }
  ]
}