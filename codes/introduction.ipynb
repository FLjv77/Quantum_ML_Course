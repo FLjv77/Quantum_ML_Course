{
  "nbformat": 4,
  "nbformat_minor": 0,
  "metadata": {
    "colab": {
      "provenance": [],
      "authorship_tag": "ABX9TyM0ISF2PET4/ae69Ad6qpNM",
      "include_colab_link": true
    },
    "kernelspec": {
      "name": "python3",
      "display_name": "Python 3"
    },
    "language_info": {
      "name": "python"
    }
  },
  "cells": [
    {
      "cell_type": "markdown",
      "metadata": {
        "id": "view-in-github",
        "colab_type": "text"
      },
      "source": [
        "<a href=\"https://colab.research.google.com/github/FLjv77/Quantum_ML_Course/blob/main/codes/introduction.ipynb\" target=\"_parent\"><img src=\"https://colab.research.google.com/assets/colab-badge.svg\" alt=\"Open In Colab\"/></a>"
      ]
    },
    {
      "cell_type": "code",
      "source": [
        "!pip install Penylane"
      ],
      "metadata": {
        "colab": {
          "base_uri": "https://localhost:8080/"
        },
        "id": "rBgqHWrZaCWo",
        "outputId": "7033bdb4-e33c-4f0c-a93d-fc807fefac21"
      },
      "execution_count": null,
      "outputs": [
        {
          "output_type": "stream",
          "name": "stdout",
          "text": [
            "\u001b[31mERROR: Could not find a version that satisfies the requirement Penylane (from versions: none)\u001b[0m\u001b[31m\n",
            "\u001b[0m\u001b[31mERROR: No matching distribution found for Penylane\u001b[0m\u001b[31m\n",
            "\u001b[0m"
          ]
        }
      ]
    },
    {
      "cell_type": "markdown",
      "source": [
        "###Qnode"
      ],
      "metadata": {
        "id": "MlMhbt-ig84S"
      }
    },
    {
      "cell_type": "code",
      "execution_count": null,
      "metadata": {
        "id": "VPRGhWNdZumT"
      },
      "outputs": [],
      "source": [
        "dev = qml.device(\"default.qubit\", wires=3)\n",
        "\n",
        "\n",
        "def my_circuit(theta, phi, omega):\n",
        "    qml.RX(theta, wires=0)\n",
        "    qml.RY(phi, wires=1)\n",
        "    qml.RZ(omega, wires=2)\n",
        "    qml.CNOT(wires=[0, 1])\n",
        "    qml.CNOT(wires=[1, 2])\n",
        "    qml.CNOT(wires=[2, 0])\n",
        "\n",
        "    return qml.probs(wires=[0, 1, 2])\n",
        "\n",
        "\n",
        "my_qnode = qml.QNode(my_circuit, dev)\n",
        "theta, phi, omega = 0.1, 0.2, 0.3\n",
        "my_qnode(theta, phi, omega)\n"
      ]
    },
    {
      "cell_type": "markdown",
      "source": [
        "###Unitaries"
      ],
      "metadata": {
        "id": "LHFhWQw-hB-V"
      }
    },
    {
      "cell_type": "code",
      "source": [
        "dev = qml.device(\"default.qubit\", wires=1)\n",
        "\n",
        "U = np.array([[1, 1], [1, -1]]) / np.sqrt(2)\n",
        "\n",
        "\n",
        "@qml.qnode(dev)\n",
        "def apply_u():\n",
        "    qml.QubitUnitary(U, wires=0)\n",
        "    return qml.state()\n"
      ],
      "metadata": {
        "id": "TmGmAUEXhEix"
      },
      "execution_count": null,
      "outputs": []
    },
    {
      "cell_type": "markdown",
      "source": [
        "##Measurment"
      ],
      "metadata": {
        "id": "wwPmCi0hxSOd"
      }
    },
    {
      "cell_type": "markdown",
      "source": [
        "###Sampels"
      ],
      "metadata": {
        "id": "nNEnYcIYxUyV"
      }
    },
    {
      "cell_type": "code",
      "source": [
        "dev = qml.device(\"default.qubit\", wires = 1, shots = 10)\n",
        "\n",
        "@qml.qnode(dev)\n",
        "def circuit():\n",
        "    qml.Hadamard(wires = 0)\n",
        "    return qml.sample()\n",
        "print(circuit())"
      ],
      "metadata": {
        "id": "6D-oo9fUhKFE"
      },
      "execution_count": null,
      "outputs": []
    },
    {
      "cell_type": "markdown",
      "source": [
        "###Counts"
      ],
      "metadata": {
        "id": "MFojNd63XTqG"
      }
    },
    {
      "cell_type": "code",
      "source": [
        "dev = qml.device(\"default.qubit\", wires = 1, shots = 1000)\n",
        "\n",
        "@qml.qnode(dev)\n",
        "def circuit_counts():\n",
        "    qml.Hadamard(wires = 0)\n",
        "    return qml.counts()\n",
        "print(circuit_counts())"
      ],
      "metadata": {
        "id": "eVlfHpc7XTIf"
      },
      "execution_count": null,
      "outputs": []
    },
    {
      "cell_type": "markdown",
      "source": [
        "###Probability"
      ],
      "metadata": {
        "id": "e1HHaiBhXiy4"
      }
    },
    {
      "cell_type": "code",
      "source": [
        "dev = qml.device(\"default.qubit\", wires = 2)\n",
        "\n",
        "@qml.qnode(dev)\n",
        "def prob_circuit_paulix():\n",
        "\n",
        "    qml.PauliX(1)\n",
        "\n",
        "    return qml.probs(op = qml.PauliX(0)@qml.PauliX(1))\n",
        "\n",
        "print(prob_circuit_paulix())"
      ],
      "metadata": {
        "id": "KYGW3BshXiKv"
      },
      "execution_count": null,
      "outputs": []
    },
    {
      "cell_type": "markdown",
      "source": [
        "###Expectation value"
      ],
      "metadata": {
        "id": "5H8Vjq1FXzK0"
      }
    },
    {
      "cell_type": "code",
      "source": [
        "dev = qml.device(\"default.qubit\", wires = 2)\n",
        "\n",
        "@qml.qnode(dev)\n",
        "def expval_circuit():\n",
        "\n",
        "    qml.RY(np.pi/4, wires = 0)\n",
        "    qml.RX(np.pi/3, wires = 1)\n",
        "    qml.CNOT(wires = [0, 1])\n",
        "\n",
        "    return qml.expval(1/3*qml.PauliZ(0) @ qml.PauliZ(1))\n",
        "\n",
        "\n",
        "expval_circuit()"
      ],
      "metadata": {
        "id": "NCIgLW7LXhWa"
      },
      "execution_count": null,
      "outputs": []
    }
  ]
}