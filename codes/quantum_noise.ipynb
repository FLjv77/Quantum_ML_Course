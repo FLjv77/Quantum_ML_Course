{
  "nbformat": 4,
  "nbformat_minor": 0,
  "metadata": {
    "colab": {
      "provenance": [],
      "collapsed_sections": [
        "8hwfzZZPfVDA"
      ],
      "authorship_tag": "ABX9TyPV+139S1KDi1kJ9xjyoOIT",
      "include_colab_link": true
    },
    "kernelspec": {
      "name": "python3",
      "display_name": "Python 3"
    },
    "language_info": {
      "name": "python"
    }
  },
  "cells": [
    {
      "cell_type": "markdown",
      "metadata": {
        "id": "view-in-github",
        "colab_type": "text"
      },
      "source": [
        "<a href=\"https://colab.research.google.com/github/FLjv77/Quantum_ML_Course/blob/main/codes/quantum_noise.ipynb\" target=\"_parent\"><img src=\"https://colab.research.google.com/assets/colab-badge.svg\" alt=\"Open In Colab\"/></a>"
      ]
    },
    {
      "cell_type": "markdown",
      "source": [
        "###Installations"
      ],
      "metadata": {
        "id": "8hwfzZZPfVDA"
      }
    },
    {
      "cell_type": "code",
      "execution_count": 1,
      "metadata": {
        "colab": {
          "base_uri": "https://localhost:8080/"
        },
        "id": "XmJxB2hSfPqK",
        "outputId": "6602dfc8-f2f1-4b65-dad9-f0a56cbaf95a"
      },
      "outputs": [
        {
          "output_type": "stream",
          "name": "stdout",
          "text": [
            "Collecting pennylane\n",
            "  Downloading PennyLane-0.41.1-py3-none-any.whl.metadata (10 kB)\n",
            "Requirement already satisfied: numpy in /usr/local/lib/python3.11/dist-packages (from pennylane) (2.0.2)\n",
            "Requirement already satisfied: scipy in /usr/local/lib/python3.11/dist-packages (from pennylane) (1.15.2)\n",
            "Requirement already satisfied: networkx in /usr/local/lib/python3.11/dist-packages (from pennylane) (3.4.2)\n",
            "Collecting rustworkx>=0.14.0 (from pennylane)\n",
            "  Downloading rustworkx-0.16.0-cp39-abi3-manylinux_2_17_x86_64.manylinux2014_x86_64.whl.metadata (10 kB)\n",
            "Requirement already satisfied: autograd in /usr/local/lib/python3.11/dist-packages (from pennylane) (1.7.0)\n",
            "Collecting tomlkit (from pennylane)\n",
            "  Downloading tomlkit-0.13.2-py3-none-any.whl.metadata (2.7 kB)\n",
            "Collecting appdirs (from pennylane)\n",
            "  Downloading appdirs-1.4.4-py2.py3-none-any.whl.metadata (9.0 kB)\n",
            "Collecting autoray>=0.6.11 (from pennylane)\n",
            "  Downloading autoray-0.7.1-py3-none-any.whl.metadata (5.8 kB)\n",
            "Requirement already satisfied: cachetools in /usr/local/lib/python3.11/dist-packages (from pennylane) (5.5.2)\n",
            "Collecting pennylane-lightning>=0.41 (from pennylane)\n",
            "  Downloading pennylane_lightning-0.41.1-cp311-cp311-manylinux_2_28_x86_64.whl.metadata (12 kB)\n",
            "Requirement already satisfied: requests in /usr/local/lib/python3.11/dist-packages (from pennylane) (2.32.3)\n",
            "Requirement already satisfied: typing-extensions in /usr/local/lib/python3.11/dist-packages (from pennylane) (4.13.2)\n",
            "Requirement already satisfied: packaging in /usr/local/lib/python3.11/dist-packages (from pennylane) (24.2)\n",
            "Collecting diastatic-malt (from pennylane)\n",
            "  Downloading diastatic_malt-2.15.2-py3-none-any.whl.metadata (2.6 kB)\n",
            "Collecting scipy-openblas32>=0.3.26 (from pennylane-lightning>=0.41->pennylane)\n",
            "  Downloading scipy_openblas32-0.3.29.0.0-py3-none-manylinux_2_17_x86_64.manylinux2014_x86_64.whl.metadata (56 kB)\n",
            "\u001b[2K     \u001b[90m━━━━━━━━━━━━━━━━━━━━━━━━━━━━━━━━━━━━━━━━\u001b[0m \u001b[32m56.1/56.1 kB\u001b[0m \u001b[31m2.3 MB/s\u001b[0m eta \u001b[36m0:00:00\u001b[0m\n",
            "\u001b[?25hRequirement already satisfied: astunparse in /usr/local/lib/python3.11/dist-packages (from diastatic-malt->pennylane) (1.6.3)\n",
            "Requirement already satisfied: gast in /usr/local/lib/python3.11/dist-packages (from diastatic-malt->pennylane) (0.6.0)\n",
            "Requirement already satisfied: termcolor in /usr/local/lib/python3.11/dist-packages (from diastatic-malt->pennylane) (3.1.0)\n",
            "Requirement already satisfied: charset-normalizer<4,>=2 in /usr/local/lib/python3.11/dist-packages (from requests->pennylane) (3.4.1)\n",
            "Requirement already satisfied: idna<4,>=2.5 in /usr/local/lib/python3.11/dist-packages (from requests->pennylane) (3.10)\n",
            "Requirement already satisfied: urllib3<3,>=1.21.1 in /usr/local/lib/python3.11/dist-packages (from requests->pennylane) (2.4.0)\n",
            "Requirement already satisfied: certifi>=2017.4.17 in /usr/local/lib/python3.11/dist-packages (from requests->pennylane) (2025.4.26)\n",
            "Requirement already satisfied: wheel<1.0,>=0.23.0 in /usr/local/lib/python3.11/dist-packages (from astunparse->diastatic-malt->pennylane) (0.45.1)\n",
            "Requirement already satisfied: six<2.0,>=1.6.1 in /usr/local/lib/python3.11/dist-packages (from astunparse->diastatic-malt->pennylane) (1.17.0)\n",
            "Downloading PennyLane-0.41.1-py3-none-any.whl (2.3 MB)\n",
            "\u001b[2K   \u001b[90m━━━━━━━━━━━━━━━━━━━━━━━━━━━━━━━━━━━━━━━━\u001b[0m \u001b[32m2.3/2.3 MB\u001b[0m \u001b[31m28.3 MB/s\u001b[0m eta \u001b[36m0:00:00\u001b[0m\n",
            "\u001b[?25hDownloading autoray-0.7.1-py3-none-any.whl (930 kB)\n",
            "\u001b[2K   \u001b[90m━━━━━━━━━━━━━━━━━━━━━━━━━━━━━━━━━━━━━━━━\u001b[0m \u001b[32m930.8/930.8 kB\u001b[0m \u001b[31m38.1 MB/s\u001b[0m eta \u001b[36m0:00:00\u001b[0m\n",
            "\u001b[?25hDownloading pennylane_lightning-0.41.1-cp311-cp311-manylinux_2_28_x86_64.whl (2.5 MB)\n",
            "\u001b[2K   \u001b[90m━━━━━━━━━━━━━━━━━━━━━━━━━━━━━━━━━━━━━━━━\u001b[0m \u001b[32m2.5/2.5 MB\u001b[0m \u001b[31m45.7 MB/s\u001b[0m eta \u001b[36m0:00:00\u001b[0m\n",
            "\u001b[?25hDownloading rustworkx-0.16.0-cp39-abi3-manylinux_2_17_x86_64.manylinux2014_x86_64.whl (2.1 MB)\n",
            "\u001b[2K   \u001b[90m━━━━━━━━━━━━━━━━━━━━━━━━━━━━━━━━━━━━━━━━\u001b[0m \u001b[32m2.1/2.1 MB\u001b[0m \u001b[31m29.9 MB/s\u001b[0m eta \u001b[36m0:00:00\u001b[0m\n",
            "\u001b[?25hDownloading appdirs-1.4.4-py2.py3-none-any.whl (9.6 kB)\n",
            "Downloading diastatic_malt-2.15.2-py3-none-any.whl (167 kB)\n",
            "\u001b[2K   \u001b[90m━━━━━━━━━━━━━━━━━━━━━━━━━━━━━━━━━━━━━━━━\u001b[0m \u001b[32m167.9/167.9 kB\u001b[0m \u001b[31m11.1 MB/s\u001b[0m eta \u001b[36m0:00:00\u001b[0m\n",
            "\u001b[?25hDownloading tomlkit-0.13.2-py3-none-any.whl (37 kB)\n",
            "Downloading scipy_openblas32-0.3.29.0.0-py3-none-manylinux_2_17_x86_64.manylinux2014_x86_64.whl (8.6 MB)\n",
            "\u001b[2K   \u001b[90m━━━━━━━━━━━━━━━━━━━━━━━━━━━━━━━━━━━━━━━━\u001b[0m \u001b[32m8.6/8.6 MB\u001b[0m \u001b[31m62.6 MB/s\u001b[0m eta \u001b[36m0:00:00\u001b[0m\n",
            "\u001b[?25hInstalling collected packages: appdirs, tomlkit, scipy-openblas32, rustworkx, autoray, diastatic-malt, pennylane-lightning, pennylane\n",
            "Successfully installed appdirs-1.4.4 autoray-0.7.1 diastatic-malt-2.15.2 pennylane-0.41.1 pennylane-lightning-0.41.1 rustworkx-0.16.0 scipy-openblas32-0.3.29.0.0 tomlkit-0.13.2\n"
          ]
        }
      ],
      "source": [
        "pip install pennylane --upgrade"
      ]
    },
    {
      "cell_type": "markdown",
      "source": [
        "###Imports"
      ],
      "metadata": {
        "id": "XH19oqY6fYUY"
      }
    },
    {
      "cell_type": "code",
      "source": [
        "import pennylane as qml\n",
        "import numpy as np\n",
        "import matplotlib as plt"
      ],
      "metadata": {
        "colab": {
          "base_uri": "https://localhost:8080/"
        },
        "id": "dBmXMzwJfZ12",
        "outputId": "fccf04a8-b05a-4539-c807-88a83039e589"
      },
      "execution_count": 2,
      "outputs": [
        {
          "output_type": "stream",
          "name": "stderr",
          "text": [
            "/usr/local/lib/python3.11/dist-packages/pennylane/capture/capture_operators.py:33: RuntimeWarning: PennyLane is not yet compatible with JAX versions > 0.4.28. You have version 0.5.2 installed. Please downgrade JAX to <=0.4.28 to avoid runtime errors.\n",
            "  warnings.warn(\n"
          ]
        }
      ]
    },
    {
      "cell_type": "markdown",
      "source": [
        "###Utilites"
      ],
      "metadata": {
        "id": "GseuHrJBhp1t"
      }
    },
    {
      "cell_type": "code",
      "source": [
        "dev = qml.device(\"default.mixed\", wires=1)\n",
        "\n",
        "def print_density_matrix(description, qnode):\n",
        "    rho = qnode()\n",
        "    print(f\"\\n{description}\")\n",
        "    print(np.round(rho, 3))"
      ],
      "metadata": {
        "id": "Qsyy0pNYfiDh"
      },
      "execution_count": 4,
      "outputs": []
    },
    {
      "cell_type": "markdown",
      "source": [
        "###Amplitude Damping\n",
        "moves toward classical ∣0⟩, but with residual coherence depending on 𝑝\n"
      ],
      "metadata": {
        "id": "igKDXSvMtsS4"
      }
    },
    {
      "cell_type": "code",
      "source": [
        "dev = qml.device(\"default.mixed\", wires=1)\n",
        "\n",
        "@qml.qnode(dev)\n",
        "def amp_damping():\n",
        "    qml.Hadamard(wires=0)\n",
        "    qml.AmplitudeDamping(0.5, wires=0)\n",
        "    return qml.density_matrix(wires=0)\n",
        "\n",
        "print_density_matrix(\"Amplitude Damping (p=0.5)\", amp_damping)\n"
      ],
      "metadata": {
        "colab": {
          "base_uri": "https://localhost:8080/"
        },
        "id": "Y7KWY-6shT2M",
        "outputId": "be74e943-a0cf-4b0b-889e-f567284d99d2"
      },
      "execution_count": 9,
      "outputs": [
        {
          "output_type": "stream",
          "name": "stdout",
          "text": [
            "\n",
            "Amplitude Damping (p=0.5)\n",
            "[[0.75 +0.j 0.354+0.j]\n",
            " [0.354+0.j 0.25 +0.j]]\n"
          ]
        }
      ]
    },
    {
      "cell_type": "markdown",
      "source": [
        "###Phase Damping\n",
        "![image.png](data:image/png;base64,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)"
      ],
      "metadata": {
        "id": "wR960_WxuTqm"
      }
    },
    {
      "cell_type": "code",
      "source": [
        "@qml.qnode(dev)\n",
        "def phase_damping():\n",
        "    qml.Hadamard(wires=0)\n",
        "    qml.PhaseDamping(0.3, wires=0)\n",
        "    return qml.density_matrix(wires=0)\n",
        "\n",
        "print_density_matrix(\"Phase Damping (p=0.7)\", phase_damping)\n"
      ],
      "metadata": {
        "colab": {
          "base_uri": "https://localhost:8080/"
        },
        "id": "VE5h8_aSuRCz",
        "outputId": "568ed401-1872-4c06-ab3a-3a67fe8d159b"
      },
      "execution_count": 11,
      "outputs": [
        {
          "output_type": "stream",
          "name": "stdout",
          "text": [
            "\n",
            "Phase Damping (p=0.7)\n",
            "[[0.5  +0.j 0.418+0.j]\n",
            " [0.418+0.j 0.5  +0.j]]\n"
          ]
        }
      ]
    },
    {
      "cell_type": "markdown",
      "source": [
        "###Depolarizing Channel\n"
      ],
      "metadata": {
        "id": "sE8cgmqIvu8i"
      }
    },
    {
      "cell_type": "code",
      "source": [
        "@qml.qnode(dev)\n",
        "def depolarizing():\n",
        "    qml.Hadamard(wires=0)\n",
        "    qml.DepolarizingChannel(0.99, wires=0)\n",
        "    return qml.density_matrix(wires=0)\n",
        "\n",
        "print_density_matrix(\"Depolarizing Channel (p=0.8)\", depolarizing)\n"
      ],
      "metadata": {
        "colab": {
          "base_uri": "https://localhost:8080/"
        },
        "id": "GbK0MZy4uZq4",
        "outputId": "bc75baf1-e0e6-4bb2-f4d2-c89ac434afbc"
      },
      "execution_count": 25,
      "outputs": [
        {
          "output_type": "stream",
          "name": "stdout",
          "text": [
            "\n",
            "Depolarizing Channel (p=0.8)\n",
            "[[ 0.5 +0.j -0.16+0.j]\n",
            " [-0.16+0.j  0.5 +0.j]]\n"
          ]
        }
      ]
    }
  ]
}